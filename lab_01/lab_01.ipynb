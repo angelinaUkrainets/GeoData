{
 "cells": [
  {
   "cell_type": "code",
   "execution_count": 1,
   "id": "3b8e4ef0",
   "metadata": {},
   "outputs": [
    {
     "name": "stdout",
     "output_type": "stream",
     "text": [
      "System of coordinates\n",
      "\n"
     ]
    },
    {
     "data": {
      "text/plain": [
       "BoundingBox(left=29.566633136000007, bottom=49.434589403000004, right=31.185382877000006, top=50.486672568)"
      ]
     },
     "execution_count": 1,
     "metadata": {},
     "output_type": "execute_result"
    }
   ],
   "source": [
    "import rasterio\n",
    "data = rasterio.open('../dataPic.tif')\n",
    "\n",
    "data.crs\n",
    "\n",
    "print(\"System of coordinates\\n\")\n",
    "data.bounds"
   ]
  },
  {
   "cell_type": "code",
   "execution_count": 2,
   "id": "7a3a359a",
   "metadata": {},
   "outputs": [
    {
     "name": "stdout",
     "output_type": "stream",
     "text": [
      "[[65535 65535 65535 ... 65535 65535 65535]\n",
      " [65535 65535 65535 ... 65535 65535 65535]\n",
      " [65535 65535 65535 ... 65535 65535 65535]\n",
      " ...\n",
      " [65535 65535 65535 ... 65535 65535 65535]\n",
      " [65535 65535 65535 ... 65535 65535 65535]\n",
      " [65535 65535 65535 ... 65535 65535 65535]]\n"
     ]
    }
   ],
   "source": [
    "array = data.read(1)\n",
    "print(array)"
   ]
  },
  {
   "cell_type": "code",
   "execution_count": 3,
   "id": "fd2142ff",
   "metadata": {},
   "outputs": [
    {
     "name": "stdout",
     "output_type": "stream",
     "text": [
      "This labWork is done with help https://github.com/KoTuK777/GeoLabs/blob/main/Lab_01/lab_01.ipynb https://github.com/yuraberun/Geo/blob/main/lab_01/lab_01.ipynb\n"
     ]
    }
   ],
   "source": [
    "print('This labWork is done with help https://github.com/KoTuK777/GeoLabs/blob/main/Lab_01/lab_01.ipynb https://github.com/yuraberun/Geo/blob/main/lab_01/lab_01.ipynb')"
   ]
  },
  {
   "cell_type": "code",
   "execution_count": null,
   "id": "edf82edc",
   "metadata": {},
   "outputs": [],
   "source": []
  }
 ],
 "metadata": {
  "kernelspec": {
   "display_name": "Python 3 (ipykernel)",
   "language": "python",
   "name": "python3"
  },
  "language_info": {
   "codemirror_mode": {
    "name": "ipython",
    "version": 3
   },
   "file_extension": ".py",
   "mimetype": "text/x-python",
   "name": "python",
   "nbconvert_exporter": "python",
   "pygments_lexer": "ipython3",
   "version": "3.10.11"
  }
 },
 "nbformat": 4,
 "nbformat_minor": 5
}
